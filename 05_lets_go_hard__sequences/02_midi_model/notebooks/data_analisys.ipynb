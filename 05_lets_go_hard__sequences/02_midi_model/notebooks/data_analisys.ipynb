{
 "cells": [
  {
   "cell_type": "code",
   "id": "initial_id",
   "metadata": {
    "collapsed": true,
    "ExecuteTime": {
     "end_time": "2025-05-02T02:06:43.041712Z",
     "start_time": "2025-05-02T02:06:38.799944Z"
    }
   },
   "source": [
    "from data.base import Base\n",
    "from data.normalized import Normalized\n",
    "import matplotlib.pyplot as plt\n",
    "\n",
    "# Load your dataset\n",
    "dataset = Base(\"../../stubs/chopin\")\n",
    "normalized = Normalized(dataset)\n",
    "\n",
    "data = dataset.data\n",
    "\n",
    "data.head()"
   ],
   "outputs": [
    {
     "data": {
      "text/plain": [
       "   instrument_idx  midi_idx      step  pitch  velocity  duration\n",
       "0               0         0  0.000000     70        80  0.576728\n",
       "1               0         0  0.576728     70        74  0.071076\n",
       "2               0         0  0.142153     70        70  0.071076\n",
       "3               0         0  0.142153     70        79  0.568612\n",
       "4               0         0  0.568612     70        75  0.067135"
      ],
      "text/html": [
       "<div>\n",
       "<style scoped>\n",
       "    .dataframe tbody tr th:only-of-type {\n",
       "        vertical-align: middle;\n",
       "    }\n",
       "\n",
       "    .dataframe tbody tr th {\n",
       "        vertical-align: top;\n",
       "    }\n",
       "\n",
       "    .dataframe thead th {\n",
       "        text-align: right;\n",
       "    }\n",
       "</style>\n",
       "<table border=\"1\" class=\"dataframe\">\n",
       "  <thead>\n",
       "    <tr style=\"text-align: right;\">\n",
       "      <th></th>\n",
       "      <th>instrument_idx</th>\n",
       "      <th>midi_idx</th>\n",
       "      <th>step</th>\n",
       "      <th>pitch</th>\n",
       "      <th>velocity</th>\n",
       "      <th>duration</th>\n",
       "    </tr>\n",
       "  </thead>\n",
       "  <tbody>\n",
       "    <tr>\n",
       "      <th>0</th>\n",
       "      <td>0</td>\n",
       "      <td>0</td>\n",
       "      <td>0.000000</td>\n",
       "      <td>70</td>\n",
       "      <td>80</td>\n",
       "      <td>0.576728</td>\n",
       "    </tr>\n",
       "    <tr>\n",
       "      <th>1</th>\n",
       "      <td>0</td>\n",
       "      <td>0</td>\n",
       "      <td>0.576728</td>\n",
       "      <td>70</td>\n",
       "      <td>74</td>\n",
       "      <td>0.071076</td>\n",
       "    </tr>\n",
       "    <tr>\n",
       "      <th>2</th>\n",
       "      <td>0</td>\n",
       "      <td>0</td>\n",
       "      <td>0.142153</td>\n",
       "      <td>70</td>\n",
       "      <td>70</td>\n",
       "      <td>0.071076</td>\n",
       "    </tr>\n",
       "    <tr>\n",
       "      <th>3</th>\n",
       "      <td>0</td>\n",
       "      <td>0</td>\n",
       "      <td>0.142153</td>\n",
       "      <td>70</td>\n",
       "      <td>79</td>\n",
       "      <td>0.568612</td>\n",
       "    </tr>\n",
       "    <tr>\n",
       "      <th>4</th>\n",
       "      <td>0</td>\n",
       "      <td>0</td>\n",
       "      <td>0.568612</td>\n",
       "      <td>70</td>\n",
       "      <td>75</td>\n",
       "      <td>0.067135</td>\n",
       "    </tr>\n",
       "  </tbody>\n",
       "</table>\n",
       "</div>"
      ]
     },
     "execution_count": 1,
     "metadata": {},
     "output_type": "execute_result"
    }
   ],
   "execution_count": 1
  },
  {
   "metadata": {
    "ExecuteTime": {
     "end_time": "2025-05-02T02:06:43.125176Z",
     "start_time": "2025-05-02T02:06:43.089140Z"
    }
   },
   "cell_type": "code",
   "source": "data.describe()",
   "id": "db6b5324a5a96700",
   "outputs": [
    {
     "data": {
      "text/plain": [
       "       instrument_idx      midi_idx          step         pitch      velocity  \\\n",
       "count    85355.000000  85355.000000  85355.000000  85355.000000  85355.000000   \n",
       "mean         0.575057     27.297909      0.182297     62.598711     52.538949   \n",
       "std          0.582145     15.088196      0.573695     13.422038     18.427263   \n",
       "min          0.000000      0.000000     -4.763156     24.000000      9.000000   \n",
       "25%          0.000000     14.000000      0.000000     53.000000     38.000000   \n",
       "50%          1.000000     31.000000      0.100463     63.000000     52.000000   \n",
       "75%          1.000000     40.000000      0.237123     72.000000     66.000000   \n",
       "max          2.000000     47.000000     79.993135    101.000000    123.000000   \n",
       "\n",
       "           duration  \n",
       "count  85355.000000  \n",
       "mean       0.284248  \n",
       "std        0.409051  \n",
       "min        0.000972  \n",
       "25%        0.100396  \n",
       "50%        0.151898  \n",
       "75%        0.317108  \n",
       "max       14.950559  "
      ],
      "text/html": [
       "<div>\n",
       "<style scoped>\n",
       "    .dataframe tbody tr th:only-of-type {\n",
       "        vertical-align: middle;\n",
       "    }\n",
       "\n",
       "    .dataframe tbody tr th {\n",
       "        vertical-align: top;\n",
       "    }\n",
       "\n",
       "    .dataframe thead th {\n",
       "        text-align: right;\n",
       "    }\n",
       "</style>\n",
       "<table border=\"1\" class=\"dataframe\">\n",
       "  <thead>\n",
       "    <tr style=\"text-align: right;\">\n",
       "      <th></th>\n",
       "      <th>instrument_idx</th>\n",
       "      <th>midi_idx</th>\n",
       "      <th>step</th>\n",
       "      <th>pitch</th>\n",
       "      <th>velocity</th>\n",
       "      <th>duration</th>\n",
       "    </tr>\n",
       "  </thead>\n",
       "  <tbody>\n",
       "    <tr>\n",
       "      <th>count</th>\n",
       "      <td>85355.000000</td>\n",
       "      <td>85355.000000</td>\n",
       "      <td>85355.000000</td>\n",
       "      <td>85355.000000</td>\n",
       "      <td>85355.000000</td>\n",
       "      <td>85355.000000</td>\n",
       "    </tr>\n",
       "    <tr>\n",
       "      <th>mean</th>\n",
       "      <td>0.575057</td>\n",
       "      <td>27.297909</td>\n",
       "      <td>0.182297</td>\n",
       "      <td>62.598711</td>\n",
       "      <td>52.538949</td>\n",
       "      <td>0.284248</td>\n",
       "    </tr>\n",
       "    <tr>\n",
       "      <th>std</th>\n",
       "      <td>0.582145</td>\n",
       "      <td>15.088196</td>\n",
       "      <td>0.573695</td>\n",
       "      <td>13.422038</td>\n",
       "      <td>18.427263</td>\n",
       "      <td>0.409051</td>\n",
       "    </tr>\n",
       "    <tr>\n",
       "      <th>min</th>\n",
       "      <td>0.000000</td>\n",
       "      <td>0.000000</td>\n",
       "      <td>-4.763156</td>\n",
       "      <td>24.000000</td>\n",
       "      <td>9.000000</td>\n",
       "      <td>0.000972</td>\n",
       "    </tr>\n",
       "    <tr>\n",
       "      <th>25%</th>\n",
       "      <td>0.000000</td>\n",
       "      <td>14.000000</td>\n",
       "      <td>0.000000</td>\n",
       "      <td>53.000000</td>\n",
       "      <td>38.000000</td>\n",
       "      <td>0.100396</td>\n",
       "    </tr>\n",
       "    <tr>\n",
       "      <th>50%</th>\n",
       "      <td>1.000000</td>\n",
       "      <td>31.000000</td>\n",
       "      <td>0.100463</td>\n",
       "      <td>63.000000</td>\n",
       "      <td>52.000000</td>\n",
       "      <td>0.151898</td>\n",
       "    </tr>\n",
       "    <tr>\n",
       "      <th>75%</th>\n",
       "      <td>1.000000</td>\n",
       "      <td>40.000000</td>\n",
       "      <td>0.237123</td>\n",
       "      <td>72.000000</td>\n",
       "      <td>66.000000</td>\n",
       "      <td>0.317108</td>\n",
       "    </tr>\n",
       "    <tr>\n",
       "      <th>max</th>\n",
       "      <td>2.000000</td>\n",
       "      <td>47.000000</td>\n",
       "      <td>79.993135</td>\n",
       "      <td>101.000000</td>\n",
       "      <td>123.000000</td>\n",
       "      <td>14.950559</td>\n",
       "    </tr>\n",
       "  </tbody>\n",
       "</table>\n",
       "</div>"
      ]
     },
     "execution_count": 2,
     "metadata": {},
     "output_type": "execute_result"
    }
   ],
   "execution_count": 2
  },
  {
   "metadata": {
    "ExecuteTime": {
     "end_time": "2025-05-02T02:06:43.241423Z",
     "start_time": "2025-05-02T02:06:43.189909Z"
    }
   },
   "cell_type": "code",
   "source": "normalized.base.data.describe()",
   "id": "801d939e6e8442b4",
   "outputs": [
    {
     "data": {
      "text/plain": [
       "       instrument_idx      midi_idx          step         pitch      velocity  \\\n",
       "count    85355.000000  85355.000000  85355.000000  85355.000000  85355.000000   \n",
       "mean         0.575057     27.297909      0.182297     62.598711     52.538949   \n",
       "std          0.582145     15.088196      0.573695     13.422038     18.427263   \n",
       "min          0.000000      0.000000     -4.763156     24.000000      9.000000   \n",
       "25%          0.000000     14.000000      0.000000     53.000000     38.000000   \n",
       "50%          1.000000     31.000000      0.100463     63.000000     52.000000   \n",
       "75%          1.000000     40.000000      0.237123     72.000000     66.000000   \n",
       "max          2.000000     47.000000     79.993135    101.000000    123.000000   \n",
       "\n",
       "           duration  \n",
       "count  85355.000000  \n",
       "mean       0.284248  \n",
       "std        0.409051  \n",
       "min        0.000972  \n",
       "25%        0.100396  \n",
       "50%        0.151898  \n",
       "75%        0.317108  \n",
       "max       14.950559  "
      ],
      "text/html": [
       "<div>\n",
       "<style scoped>\n",
       "    .dataframe tbody tr th:only-of-type {\n",
       "        vertical-align: middle;\n",
       "    }\n",
       "\n",
       "    .dataframe tbody tr th {\n",
       "        vertical-align: top;\n",
       "    }\n",
       "\n",
       "    .dataframe thead th {\n",
       "        text-align: right;\n",
       "    }\n",
       "</style>\n",
       "<table border=\"1\" class=\"dataframe\">\n",
       "  <thead>\n",
       "    <tr style=\"text-align: right;\">\n",
       "      <th></th>\n",
       "      <th>instrument_idx</th>\n",
       "      <th>midi_idx</th>\n",
       "      <th>step</th>\n",
       "      <th>pitch</th>\n",
       "      <th>velocity</th>\n",
       "      <th>duration</th>\n",
       "    </tr>\n",
       "  </thead>\n",
       "  <tbody>\n",
       "    <tr>\n",
       "      <th>count</th>\n",
       "      <td>85355.000000</td>\n",
       "      <td>85355.000000</td>\n",
       "      <td>85355.000000</td>\n",
       "      <td>85355.000000</td>\n",
       "      <td>85355.000000</td>\n",
       "      <td>85355.000000</td>\n",
       "    </tr>\n",
       "    <tr>\n",
       "      <th>mean</th>\n",
       "      <td>0.575057</td>\n",
       "      <td>27.297909</td>\n",
       "      <td>0.182297</td>\n",
       "      <td>62.598711</td>\n",
       "      <td>52.538949</td>\n",
       "      <td>0.284248</td>\n",
       "    </tr>\n",
       "    <tr>\n",
       "      <th>std</th>\n",
       "      <td>0.582145</td>\n",
       "      <td>15.088196</td>\n",
       "      <td>0.573695</td>\n",
       "      <td>13.422038</td>\n",
       "      <td>18.427263</td>\n",
       "      <td>0.409051</td>\n",
       "    </tr>\n",
       "    <tr>\n",
       "      <th>min</th>\n",
       "      <td>0.000000</td>\n",
       "      <td>0.000000</td>\n",
       "      <td>-4.763156</td>\n",
       "      <td>24.000000</td>\n",
       "      <td>9.000000</td>\n",
       "      <td>0.000972</td>\n",
       "    </tr>\n",
       "    <tr>\n",
       "      <th>25%</th>\n",
       "      <td>0.000000</td>\n",
       "      <td>14.000000</td>\n",
       "      <td>0.000000</td>\n",
       "      <td>53.000000</td>\n",
       "      <td>38.000000</td>\n",
       "      <td>0.100396</td>\n",
       "    </tr>\n",
       "    <tr>\n",
       "      <th>50%</th>\n",
       "      <td>1.000000</td>\n",
       "      <td>31.000000</td>\n",
       "      <td>0.100463</td>\n",
       "      <td>63.000000</td>\n",
       "      <td>52.000000</td>\n",
       "      <td>0.151898</td>\n",
       "    </tr>\n",
       "    <tr>\n",
       "      <th>75%</th>\n",
       "      <td>1.000000</td>\n",
       "      <td>40.000000</td>\n",
       "      <td>0.237123</td>\n",
       "      <td>72.000000</td>\n",
       "      <td>66.000000</td>\n",
       "      <td>0.317108</td>\n",
       "    </tr>\n",
       "    <tr>\n",
       "      <th>max</th>\n",
       "      <td>2.000000</td>\n",
       "      <td>47.000000</td>\n",
       "      <td>79.993135</td>\n",
       "      <td>101.000000</td>\n",
       "      <td>123.000000</td>\n",
       "      <td>14.950559</td>\n",
       "    </tr>\n",
       "  </tbody>\n",
       "</table>\n",
       "</div>"
      ]
     },
     "execution_count": 3,
     "metadata": {},
     "output_type": "execute_result"
    }
   ],
   "execution_count": 3
  },
  {
   "metadata": {
    "ExecuteTime": {
     "end_time": "2025-05-02T02:06:43.689019Z",
     "start_time": "2025-05-02T02:06:43.425302Z"
    }
   },
   "cell_type": "code",
   "source": "data[\"pitch\"].hist()",
   "id": "885a7b46386ad10f",
   "outputs": [
    {
     "data": {
      "text/plain": [
       "<Axes: >"
      ]
     },
     "execution_count": 4,
     "metadata": {},
     "output_type": "execute_result"
    },
    {
     "data": {
      "text/plain": [
       "<Figure size 640x480 with 1 Axes>"
      ],
      "image/png": "[encoded data removed]"
     },
     "metadata": {},
     "output_type": "display_data"
    }
   ],
   "execution_count": 4
  },
  {
   "metadata": {
    "ExecuteTime": {
     "end_time": "2025-05-02T02:06:44.022691Z",
     "start_time": "2025-05-02T02:06:43.811678Z"
    }
   },
   "cell_type": "code",
   "source": "data[\"velocity\"].hist()",
   "id": "42d9e1f14aca86a7",
   "outputs": [
    {
     "data": {
      "text/plain": [
       "<Axes: >"
      ]
     },
     "execution_count": 5,
     "metadata": {},
     "output_type": "execute_result"
    },
    {
     "data": {
      "text/plain": [
       "<Figure size 640x480 with 1 Axes>"
      ],
      "image/png": "[encoded data removed]"
     },
     "metadata": {},
     "output_type": "display_data"
    }
   ],
   "execution_count": 5
  },
  {
   "metadata": {
    "ExecuteTime": {
     "end_time": "2025-05-02T02:06:44.063984Z",
     "start_time": "2025-05-02T02:06:44.060501Z"
    }
   },
   "cell_type": "code",
   "source": "",
   "id": "557268816e9bcf1b",
   "outputs": [],
   "execution_count": null
  }
 ],
 "metadata": {
  "kernelspec": {
   "display_name": "Python 3 (ipykernel)",
   "language": "python",
   "name": "python3"
  },
  "language_info": {
   "codemirror_mode": {
    "name": "ipython",
    "version": 2
   },
   "file_extension": ".py",
   "mimetype": "text/x-python",
   "name": "python",
   "nbconvert_exporter": "python",
   "pygments_lexer": "ipython2",
   "version": "2.7.6"
  }
 },
 "nbformat": 4,
 "nbformat_minor": 5
}

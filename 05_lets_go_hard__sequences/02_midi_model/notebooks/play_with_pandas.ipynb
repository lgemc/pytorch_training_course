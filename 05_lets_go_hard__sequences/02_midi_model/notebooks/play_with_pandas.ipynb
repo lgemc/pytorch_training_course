{
 "cells": [
  {
   "cell_type": "code",
   "id": "initial_id",
   "metadata": {
    "collapsed": true,
    "ExecuteTime": {
     "end_time": "2025-05-01T20:38:23.102354Z",
     "start_time": "2025-05-01T20:38:22.635588Z"
    }
   },
   "source": [
    "import pandas as pd\n",
    "\n",
    "data = {\n",
    "    \"instrument_idx\": [0, 0, 1, 1, 2],\n",
    "    \"step\": [0.1, 0.2, 0.3, 0.4, 0.5],\n",
    "    \"pitch\": [60, 62, 64, 65, 67],\n",
    "    \"velocity\": [100, 90, 80, 70, 60],\n",
    "    \"duration\": [0.5, 0.6, 0.7, 0.8, 0.9]\n",
    "}"
   ],
   "outputs": [],
   "execution_count": 1
  },
  {
   "metadata": {
    "ExecuteTime": {
     "end_time": "2025-05-01T20:38:44.433216Z",
     "start_time": "2025-05-01T20:38:44.398818Z"
    }
   },
   "cell_type": "code",
   "source": [
    "data_frame = pd.DataFrame(data)\n",
    "\n",
    "data_frame.describe()"
   ],
   "id": "baba75f6e1198dec",
   "outputs": [
    {
     "data": {
      "text/plain": [
       "       instrument_idx      step      pitch    velocity  duration\n",
       "count         5.00000  5.000000   5.000000    5.000000  5.000000\n",
       "mean          0.80000  0.300000  63.600000   80.000000  0.700000\n",
       "std           0.83666  0.158114   2.701851   15.811388  0.158114\n",
       "min           0.00000  0.100000  60.000000   60.000000  0.500000\n",
       "25%           0.00000  0.200000  62.000000   70.000000  0.600000\n",
       "50%           1.00000  0.300000  64.000000   80.000000  0.700000\n",
       "75%           1.00000  0.400000  65.000000   90.000000  0.800000\n",
       "max           2.00000  0.500000  67.000000  100.000000  0.900000"
      ],
      "text/html": [
       "<div>\n",
       "<style scoped>\n",
       "    .dataframe tbody tr th:only-of-type {\n",
       "        vertical-align: middle;\n",
       "    }\n",
       "\n",
       "    .dataframe tbody tr th {\n",
       "        vertical-align: top;\n",
       "    }\n",
       "\n",
       "    .dataframe thead th {\n",
       "        text-align: right;\n",
       "    }\n",
       "</style>\n",
       "<table border=\"1\" class=\"dataframe\">\n",
       "  <thead>\n",
       "    <tr style=\"text-align: right;\">\n",
       "      <th></th>\n",
       "      <th>instrument_idx</th>\n",
       "      <th>step</th>\n",
       "      <th>pitch</th>\n",
       "      <th>velocity</th>\n",
       "      <th>duration</th>\n",
       "    </tr>\n",
       "  </thead>\n",
       "  <tbody>\n",
       "    <tr>\n",
       "      <th>count</th>\n",
       "      <td>5.00000</td>\n",
       "      <td>5.000000</td>\n",
       "      <td>5.000000</td>\n",
       "      <td>5.000000</td>\n",
       "      <td>5.000000</td>\n",
       "    </tr>\n",
       "    <tr>\n",
       "      <th>mean</th>\n",
       "      <td>0.80000</td>\n",
       "      <td>0.300000</td>\n",
       "      <td>63.600000</td>\n",
       "      <td>80.000000</td>\n",
       "      <td>0.700000</td>\n",
       "    </tr>\n",
       "    <tr>\n",
       "      <th>std</th>\n",
       "      <td>0.83666</td>\n",
       "      <td>0.158114</td>\n",
       "      <td>2.701851</td>\n",
       "      <td>15.811388</td>\n",
       "      <td>0.158114</td>\n",
       "    </tr>\n",
       "    <tr>\n",
       "      <th>min</th>\n",
       "      <td>0.00000</td>\n",
       "      <td>0.100000</td>\n",
       "      <td>60.000000</td>\n",
       "      <td>60.000000</td>\n",
       "      <td>0.500000</td>\n",
       "    </tr>\n",
       "    <tr>\n",
       "      <th>25%</th>\n",
       "      <td>0.00000</td>\n",
       "      <td>0.200000</td>\n",
       "      <td>62.000000</td>\n",
       "      <td>70.000000</td>\n",
       "      <td>0.600000</td>\n",
       "    </tr>\n",
       "    <tr>\n",
       "      <th>50%</th>\n",
       "      <td>1.00000</td>\n",
       "      <td>0.300000</td>\n",
       "      <td>64.000000</td>\n",
       "      <td>80.000000</td>\n",
       "      <td>0.700000</td>\n",
       "    </tr>\n",
       "    <tr>\n",
       "      <th>75%</th>\n",
       "      <td>1.00000</td>\n",
       "      <td>0.400000</td>\n",
       "      <td>65.000000</td>\n",
       "      <td>90.000000</td>\n",
       "      <td>0.800000</td>\n",
       "    </tr>\n",
       "    <tr>\n",
       "      <th>max</th>\n",
       "      <td>2.00000</td>\n",
       "      <td>0.500000</td>\n",
       "      <td>67.000000</td>\n",
       "      <td>100.000000</td>\n",
       "      <td>0.900000</td>\n",
       "    </tr>\n",
       "  </tbody>\n",
       "</table>\n",
       "</div>"
      ]
     },
     "execution_count": 3,
     "metadata": {},
     "output_type": "execute_result"
    }
   ],
   "execution_count": 3
  },
  {
   "metadata": {
    "ExecuteTime": {
     "end_time": "2025-05-01T20:43:36.729316Z",
     "start_time": "2025-05-01T20:43:36.722675Z"
    }
   },
   "cell_type": "code",
   "source": "data_frame.iloc[0: 2].values.tolist()",
   "id": "15d90e42a74d0d45",
   "outputs": [
    {
     "data": {
      "text/plain": [
       "[[0.0, 0.1, 60.0, 100.0, 0.5], [0.0, 0.2, 62.0, 90.0, 0.6]]"
      ]
     },
     "execution_count": 10,
     "metadata": {},
     "output_type": "execute_result"
    }
   ],
   "execution_count": 10
  },
  {
   "metadata": {},
   "cell_type": "code",
   "outputs": [],
   "execution_count": null,
   "source": "",
   "id": "f9d4ef84ce3671d9"
  }
 ],
 "metadata": {
  "kernelspec": {
   "display_name": "Python 3",
   "language": "python",
   "name": "python3"
  },
  "language_info": {
   "codemirror_mode": {
    "name": "ipython",
    "version": 2
   },
   "file_extension": ".py",
   "mimetype": "text/x-python",
   "name": "python",
   "nbconvert_exporter": "python",
   "pygments_lexer": "ipython2",
   "version": "2.7.6"
  }
 },
 "nbformat": 4,
 "nbformat_minor": 5
}
